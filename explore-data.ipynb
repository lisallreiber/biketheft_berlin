{
 "cells": [
  {
   "attachments": {},
   "cell_type": "markdown",
   "metadata": {},
   "source": [
    "# Berlin bike theft \n",
    "\n",
    "possible for parameterization: `date`, `type of theft`, `location`"
   ]
  },
  {
   "cell_type": "code",
   "execution_count": 1,
   "metadata": {},
   "outputs": [],
   "source": [
    "import os\n",
    "import pandas as pd"
   ]
  },
  {
   "cell_type": "code",
   "execution_count": 50,
   "metadata": {},
   "outputs": [],
   "source": [
    "# import data\n",
    "# !wget -O 2023-03-16_berlin-bike-theft.csv \"https://www.internetwache-polizei-berlin.de/vdb/Fahrraddiebstahl.csv\"\n",
    "# !wget -O 2023-03-17_berlin-bike-theft.csv \"https://www.internetwache-polizei-berlin.de/vdb/Fahrraddiebstahl.csv\""
   ]
  },
  {
   "attachments": {},
   "cell_type": "markdown",
   "metadata": {},
   "source": [
    "# read data"
   ]
  },
  {
   "cell_type": "code",
   "execution_count": 9,
   "metadata": {},
   "outputs": [],
   "source": [
    "# def custom_date_parser(date_str):\n",
    "#     return pd.to_datetime(date_str, format='%d.%m.%Y %H')\n",
    "\n",
    "# bike_theft_df = pd.read_csv(\n",
    "#     '2023-03-17_berlin-bike-theft.csv',\n",
    "#     encoding='latin-1',\n",
    "#     parse_dates={\n",
    "#         'ANGELEGT_DATUM'   : ['ANGELEGT_AM'],\n",
    "#         'TATZEIT_ANFANG': ['TATZEIT_ANFANG_DATUM', 'TATZEIT_ANFANG_STUNDE'], \n",
    "#         'TATZEIT_ENDE'  : ['TATZEIT_ENDE_DATUM', 'TATZEIT_ENDE_STUNDE']\n",
    "#     },\n",
    "#     date_parser=custom_date_parser)\n",
    "\n",
    "bike_theft_df = pd.read_csv(\n",
    "    'data/raw/2023-03-29_berlin-bike-theft.csv',\n",
    "    encoding='latin-1',\n",
    "    parse_dates=['ANGELEGT_AM', 'TATZEIT_ANFANG_DATUM', 'TATZEIT_ENDE_DATUM'],\n",
    "    dayfirst=True)"
   ]
  },
  {
   "attachments": {},
   "cell_type": "markdown",
   "metadata": {},
   "source": [
    "## explore"
   ]
  },
  {
   "cell_type": "code",
   "execution_count": 10,
   "metadata": {},
   "outputs": [
    {
     "data": {
      "text/plain": [
       "ANGELEGT_AM              datetime64[ns]\n",
       "TATZEIT_ANFANG_DATUM     datetime64[ns]\n",
       "TATZEIT_ANFANG_STUNDE             int64\n",
       "TATZEIT_ENDE_DATUM       datetime64[ns]\n",
       "TATZEIT_ENDE_STUNDE               int64\n",
       "LOR                               int64\n",
       "SCHADENSHOEHE                     int64\n",
       "VERSUCH                          object\n",
       "ART_DES_FAHRRADS                 object\n",
       "DELIKT                           object\n",
       "ERFASSUNGSGRUND                  object\n",
       "dtype: object"
      ]
     },
     "execution_count": 10,
     "metadata": {},
     "output_type": "execute_result"
    }
   ],
   "source": [
    "# bike_theft_df.info()\n",
    "bike_theft_df.dtypes"
   ]
  },
  {
   "cell_type": "code",
   "execution_count": 12,
   "metadata": {},
   "outputs": [
    {
     "name": "stdout",
     "output_type": "stream",
     "text": [
      "Download Date: 2023-03-29\n",
      "Date Newest Entry: 2023-03-28\n"
     ]
    }
   ],
   "source": [
    "# get max date as date with format YYYY-MM-DD\n",
    "date_download = \"2023-03-29\"\n",
    "date_last_entry = bike_theft_df['ANGELEGT_AM'].max().date().isoformat()\n",
    "\n",
    "print(f\"Download Date: {date_download}\")\n",
    "print(f\"Date Newest Entry: {date_last_entry}\")"
   ]
  },
  {
   "attachments": {},
   "cell_type": "markdown",
   "metadata": {},
   "source": [
    "## transform"
   ]
  },
  {
   "cell_type": "code",
   "execution_count": 13,
   "metadata": {},
   "outputs": [],
   "source": [
    "# combine TATZEIT_DATUM and TATZEIT_STUNDE to create TATZEIT\n",
    "bike_theft_df['TATZEIT_ANFANG'] = bike_theft_df['TATZEIT_ANFANG_DATUM'] + pd.to_timedelta(bike_theft_df['TATZEIT_ANFANG_STUNDE'], unit='h')\n",
    "bike_theft_df['TATZEIT_ENDE'] = bike_theft_df['TATZEIT_ENDE_DATUM'] + pd.to_timedelta(bike_theft_df['TATZEIT_ENDE_STUNDE'], unit='h')\n",
    "\n",
    "# extract hour from TATZEIT_ANFANG and assign it to TATZEIT_ANFANG_STUNDE\n",
    "bike_theft_df['TATZEIT_ANFANG_STUNDE'] = bike_theft_df['TATZEIT_ANFANG'].dt.hour\n",
    "bike_theft_df['TATZEIT_ENDE_STUNDE'] = bike_theft_df['TATZEIT_ENDE'].dt.hour\n",
    "\n",
    "# generate tatzeit dauer\n",
    "bike_theft_df['TATZEIT_DAUER'] = (bike_theft_df['TATZEIT_ENDE'] - bike_theft_df['TATZEIT_ANFANG']) / pd.Timedelta(hours=1)\n"
   ]
  },
  {
   "cell_type": "code",
   "execution_count": 14,
   "metadata": {},
   "outputs": [
    {
     "data": {
      "text/html": [
       "<div>\n",
       "<style scoped>\n",
       "    .dataframe tbody tr th:only-of-type {\n",
       "        vertical-align: middle;\n",
       "    }\n",
       "\n",
       "    .dataframe tbody tr th {\n",
       "        vertical-align: top;\n",
       "    }\n",
       "\n",
       "    .dataframe thead th {\n",
       "        text-align: right;\n",
       "    }\n",
       "</style>\n",
       "<table border=\"1\" class=\"dataframe\">\n",
       "  <thead>\n",
       "    <tr style=\"text-align: right;\">\n",
       "      <th></th>\n",
       "      <th>ANGELEGT_AM</th>\n",
       "      <th>TATZEIT_ANFANG_DATUM</th>\n",
       "      <th>TATZEIT_ANFANG_STUNDE</th>\n",
       "      <th>TATZEIT_ENDE_DATUM</th>\n",
       "      <th>TATZEIT_ENDE_STUNDE</th>\n",
       "      <th>LOR</th>\n",
       "      <th>SCHADENSHOEHE</th>\n",
       "      <th>VERSUCH</th>\n",
       "      <th>ART_DES_FAHRRADS</th>\n",
       "      <th>DELIKT</th>\n",
       "      <th>ERFASSUNGSGRUND</th>\n",
       "      <th>TATZEIT_ANFANG</th>\n",
       "      <th>TATZEIT_ENDE</th>\n",
       "      <th>TATZEIT_DAUER</th>\n",
       "    </tr>\n",
       "  </thead>\n",
       "  <tbody>\n",
       "    <tr>\n",
       "      <th>0</th>\n",
       "      <td>2023-03-28</td>\n",
       "      <td>2023-03-27</td>\n",
       "      <td>19</td>\n",
       "      <td>2023-03-28</td>\n",
       "      <td>7</td>\n",
       "      <td>3701555</td>\n",
       "      <td>910</td>\n",
       "      <td>Nein</td>\n",
       "      <td>Herrenfahrrad</td>\n",
       "      <td>Fahrraddiebstahl</td>\n",
       "      <td>Sonstiger schwerer Diebstahl von Fahrrädern</td>\n",
       "      <td>2023-03-27 19:00:00</td>\n",
       "      <td>2023-03-28 07:00:00</td>\n",
       "      <td>12.0</td>\n",
       "    </tr>\n",
       "    <tr>\n",
       "      <th>1</th>\n",
       "      <td>2023-03-28</td>\n",
       "      <td>2023-03-26</td>\n",
       "      <td>12</td>\n",
       "      <td>2023-03-26</td>\n",
       "      <td>19</td>\n",
       "      <td>11200410</td>\n",
       "      <td>459</td>\n",
       "      <td>Nein</td>\n",
       "      <td>Damenfahrrad</td>\n",
       "      <td>Fahrraddiebstahl</td>\n",
       "      <td>Sonstiger schwerer Diebstahl von Fahrrädern</td>\n",
       "      <td>2023-03-26 12:00:00</td>\n",
       "      <td>2023-03-26 19:00:00</td>\n",
       "      <td>7.0</td>\n",
       "    </tr>\n",
       "    <tr>\n",
       "      <th>2</th>\n",
       "      <td>2023-03-28</td>\n",
       "      <td>2023-03-27</td>\n",
       "      <td>19</td>\n",
       "      <td>2023-03-28</td>\n",
       "      <td>8</td>\n",
       "      <td>2400521</td>\n",
       "      <td>1320</td>\n",
       "      <td>Nein</td>\n",
       "      <td>Herrenfahrrad</td>\n",
       "      <td>Fahrraddiebstahl</td>\n",
       "      <td>Sonstiger schwerer Diebstahl von Fahrrädern</td>\n",
       "      <td>2023-03-27 19:00:00</td>\n",
       "      <td>2023-03-28 08:00:00</td>\n",
       "      <td>13.0</td>\n",
       "    </tr>\n",
       "    <tr>\n",
       "      <th>3</th>\n",
       "      <td>2023-03-28</td>\n",
       "      <td>2023-03-27</td>\n",
       "      <td>21</td>\n",
       "      <td>2023-03-28</td>\n",
       "      <td>14</td>\n",
       "      <td>12500926</td>\n",
       "      <td>900</td>\n",
       "      <td>Nein</td>\n",
       "      <td>Herrenfahrrad</td>\n",
       "      <td>Fahrraddiebstahl</td>\n",
       "      <td>Sonstiger schwerer Diebstahl von Fahrrädern</td>\n",
       "      <td>2023-03-27 21:00:00</td>\n",
       "      <td>2023-03-28 14:00:00</td>\n",
       "      <td>17.0</td>\n",
       "    </tr>\n",
       "    <tr>\n",
       "      <th>4</th>\n",
       "      <td>2023-03-28</td>\n",
       "      <td>2023-03-25</td>\n",
       "      <td>19</td>\n",
       "      <td>2023-03-26</td>\n",
       "      <td>9</td>\n",
       "      <td>2300315</td>\n",
       "      <td>340</td>\n",
       "      <td>Nein</td>\n",
       "      <td>Herrenfahrrad</td>\n",
       "      <td>Fahrraddiebstahl</td>\n",
       "      <td>Sonstiger schwerer Diebstahl von Fahrrädern</td>\n",
       "      <td>2023-03-25 19:00:00</td>\n",
       "      <td>2023-03-26 09:00:00</td>\n",
       "      <td>14.0</td>\n",
       "    </tr>\n",
       "  </tbody>\n",
       "</table>\n",
       "</div>"
      ],
      "text/plain": [
       "  ANGELEGT_AM TATZEIT_ANFANG_DATUM  TATZEIT_ANFANG_STUNDE TATZEIT_ENDE_DATUM  \\\n",
       "0  2023-03-28           2023-03-27                     19         2023-03-28   \n",
       "1  2023-03-28           2023-03-26                     12         2023-03-26   \n",
       "2  2023-03-28           2023-03-27                     19         2023-03-28   \n",
       "3  2023-03-28           2023-03-27                     21         2023-03-28   \n",
       "4  2023-03-28           2023-03-25                     19         2023-03-26   \n",
       "\n",
       "   TATZEIT_ENDE_STUNDE       LOR  SCHADENSHOEHE VERSUCH ART_DES_FAHRRADS  \\\n",
       "0                    7   3701555            910    Nein    Herrenfahrrad   \n",
       "1                   19  11200410            459    Nein     Damenfahrrad   \n",
       "2                    8   2400521           1320    Nein    Herrenfahrrad   \n",
       "3                   14  12500926            900    Nein    Herrenfahrrad   \n",
       "4                    9   2300315            340    Nein    Herrenfahrrad   \n",
       "\n",
       "             DELIKT                              ERFASSUNGSGRUND  \\\n",
       "0  Fahrraddiebstahl  Sonstiger schwerer Diebstahl von Fahrrädern   \n",
       "1  Fahrraddiebstahl  Sonstiger schwerer Diebstahl von Fahrrädern   \n",
       "2  Fahrraddiebstahl  Sonstiger schwerer Diebstahl von Fahrrädern   \n",
       "3  Fahrraddiebstahl  Sonstiger schwerer Diebstahl von Fahrrädern   \n",
       "4  Fahrraddiebstahl  Sonstiger schwerer Diebstahl von Fahrrädern   \n",
       "\n",
       "       TATZEIT_ANFANG        TATZEIT_ENDE  TATZEIT_DAUER  \n",
       "0 2023-03-27 19:00:00 2023-03-28 07:00:00           12.0  \n",
       "1 2023-03-26 12:00:00 2023-03-26 19:00:00            7.0  \n",
       "2 2023-03-27 19:00:00 2023-03-28 08:00:00           13.0  \n",
       "3 2023-03-27 21:00:00 2023-03-28 14:00:00           17.0  \n",
       "4 2023-03-25 19:00:00 2023-03-26 09:00:00           14.0  "
      ]
     },
     "execution_count": 14,
     "metadata": {},
     "output_type": "execute_result"
    }
   ],
   "source": [
    "bike_theft_df.head()"
   ]
  },
  {
   "attachments": {},
   "cell_type": "markdown",
   "metadata": {},
   "source": [
    "## visualize"
   ]
  },
  {
   "cell_type": "code",
   "execution_count": 15,
   "metadata": {},
   "outputs": [
    {
     "data": {
      "image/png": "[encoded data removed]",
      "text/plain": [
       "<Figure size 640x480 with 1 Axes>"
      ]
     },
     "metadata": {},
     "output_type": "display_data"
    }
   ],
   "source": [
    "import matplotlib.pyplot as plt\n",
    "\n",
    "counts = bike_theft_df['ERFASSUNGSGRUND'].value_counts().sort_values(ascending=True)\n",
    "labels = [f'{s[:30]}\\n{s[30:]}' if len(s) > 30 else s for s in counts.index]\n",
    "plt.barh(labels, counts.values)\n",
    "plt.xlabel('Count')\n",
    "plt.title('Count of bike thefts by ERFASSUNGSGRUND')\n",
    "plt.show()"
   ]
  },
  {
   "attachments": {},
   "cell_type": "markdown",
   "metadata": {},
   "source": [
    "## export to pq"
   ]
  },
  {
   "cell_type": "code",
   "execution_count": 17,
   "metadata": {},
   "outputs": [],
   "source": [
    "# export bike_theft_df as parquet woth TODAY ad prefix in the filename\n",
    "bike_theft_df.to_parquet(f'data/pq/{date_download}_berlin-bike-theft.parquet', index=False)"
   ]
  },
  {
   "cell_type": "code",
   "execution_count": 21,
   "metadata": {},
   "outputs": [
    {
     "name": "stdout",
     "output_type": "stream",
     "text": [
      "2023-04-04\n"
     ]
    }
   ],
   "source": [
    "from pathlib import Path\n",
    "import os\n",
    "\n",
    "local_prefix = Path(f\"data/raw\")\n",
    "\n",
    "most_recent_date = max([file.split('_')[0] for file in os.listdir(local_prefix)])\n",
    "\n",
    "print(most_recent_date)"
   ]
  },
  {
   "cell_type": "code",
   "execution_count": 27,
   "metadata": {},
   "outputs": [
    {
     "ename": "AttributeError",
     "evalue": "'coroutine' object has no attribute 'read_path'",
     "output_type": "error",
     "traceback": [
      "\u001b[0;31m---------------------------------------------------------------------------\u001b[0m",
      "\u001b[0;31mAttributeError\u001b[0m                            Traceback (most recent call last)",
      "Cell \u001b[0;32mIn[27], line 5\u001b[0m\n\u001b[1;32m      2\u001b[0m \u001b[39mfrom\u001b[39;00m \u001b[39mprefect_gcp\u001b[39;00m\u001b[39m.\u001b[39;00m\u001b[39mcloud_storage\u001b[39;00m \u001b[39mimport\u001b[39;00m GcsBucket\n\u001b[1;32m      4\u001b[0m gcs_bucket \u001b[39m=\u001b[39m GcsBucket\u001b[39m.\u001b[39mload(\u001b[39m\"\u001b[39m\u001b[39mde-zoomcamp-gcs\u001b[39m\u001b[39m\"\u001b[39m)\n\u001b[0;32m----> 5\u001b[0m gcs_bucket\u001b[39m.\u001b[39;49mread_path(local_prefix)\n",
      "\u001b[0;31mAttributeError\u001b[0m: 'coroutine' object has no attribute 'read_path'"
     ]
    }
   ],
   "source": [
    "\n",
    "from prefect_gcp.cloud_storage import GcsBucket     # to upload to GCS\n",
    "from prefect_gcp.cloud_storage import GcsBucket\n",
    "\n",
    "gcs_bucket = GcsBucket.load(\"de-zoomcamp-gcs\")\n",
    "gcs_bucket.read_path(local_prefix)\n",
    "\n"
   ]
  }
 ],
 "metadata": {
  "kernelspec": {
   "display_name": "berlin-bike-theft-DT4ovDbW-py3.10",
   "language": "python",
   "name": "python3"
  },
  "language_info": {
   "codemirror_mode": {
    "name": "ipython",
    "version": 3
   },
   "file_extension": ".py",
   "mimetype": "text/x-python",
   "name": "python",
   "nbconvert_exporter": "python",
   "pygments_lexer": "ipython3",
   "version": "3.10.9"
  },
  "orig_nbformat": 4,
  "vscode": {
   "interpreter": {
    "hash": "cc3abc7e1b641b6655438a0ab261aacefa3fdc18092e5090e2aed66abb705742"
   }
  }
 },
 "nbformat": 4,
 "nbformat_minor": 2
}
